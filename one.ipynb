{
  "nbformat": 4,
  "nbformat_minor": 0,
  "metadata": {
    "colab": {
      "provenance": [],
      "authorship_tag": "ABX9TyNzEkUt7qywIkJ74ILjbsxS",
      "include_colab_link": true
    },
    "kernelspec": {
      "name": "python3",
      "display_name": "Python 3"
    },
    "language_info": {
      "name": "python"
    }
  },
  "cells": [
    {
      "cell_type": "markdown",
      "metadata": {
        "id": "view-in-github",
        "colab_type": "text"
      },
      "source": [
        "<a href=\"https://colab.research.google.com/github/Guta19/Guta19/blob/main/one.ipynb\" target=\"_parent\"><img src=\"https://colab.research.google.com/assets/colab-badge.svg\" alt=\"Open In Colab\"/></a>"
      ]
    },
    {
      "cell_type": "code",
      "execution_count": 1,
      "metadata": {
        "colab": {
          "base_uri": "https://localhost:8080/"
        },
        "id": "hzaKnf9iV5Jb",
        "outputId": "b222ab78-e06d-43a6-badf-4c9ece48c46b"
      },
      "outputs": [
        {
          "output_type": "stream",
          "name": "stdout",
          "text": [
            "Here we Go!\n"
          ]
        }
      ],
      "source": [
        "print ('Here we Go!')"
      ]
    },
    {
      "cell_type": "markdown",
      "source": [
        "Simple program to add numbers in python\n"
      ],
      "metadata": {
        "id": "QNx46vEtXtcT"
      }
    },
    {
      "cell_type": "code",
      "source": [
        "a= 5\n",
        "b= 5\n",
        "c= a+b\n",
        "print(\"Sum = \",c)\n"
      ],
      "metadata": {
        "colab": {
          "base_uri": "https://localhost:8080/"
        },
        "id": "Stl5_BuBWMnr",
        "outputId": "2000cf88-4424-45c1-a259-d14102986227"
      },
      "execution_count": 3,
      "outputs": [
        {
          "output_type": "stream",
          "name": "stdout",
          "text": [
            "Sum =  10\n"
          ]
        }
      ]
    }
  ]
}