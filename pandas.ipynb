{
  "nbformat": 4,
  "nbformat_minor": 0,
  "metadata": {
    "colab": {
      "provenance": [],
      "authorship_tag": "ABX9TyOWWKs0CglotCWBZ2I0XhIk",
      "include_colab_link": true
    },
    "kernelspec": {
      "name": "python3",
      "display_name": "Python 3"
    },
    "language_info": {
      "name": "python"
    }
  },
  "cells": [
    {
      "cell_type": "markdown",
      "metadata": {
        "id": "view-in-github",
        "colab_type": "text"
      },
      "source": [
        "<a href=\"https://colab.research.google.com/github/Guta19/Guta19/blob/main/pandas.ipynb\" target=\"_parent\"><img src=\"https://colab.research.google.com/assets/colab-badge.svg\" alt=\"Open In Colab\"/></a>"
      ]
    },
    {
      "cell_type": "code",
      "execution_count": 3,
      "metadata": {
        "colab": {
          "base_uri": "https://localhost:8080/"
        },
        "id": "N105xvgMeEMl",
        "outputId": "5a811331-76eb-45d6-8d42-251697a9330a"
      },
      "outputs": [
        {
          "output_type": "stream",
          "name": "stdout",
          "text": [
            "Series = \n",
            " 0     100\n",
            "1     200\n",
            "2     300\n",
            "3     400\n",
            "4     500\n",
            "5     600\n",
            "6     700\n",
            "7     800\n",
            "8     900\n",
            "9    1000\n",
            "dtype: int64\n"
          ]
        }
      ],
      "source": [
        "import pandas as pd\n",
        "mylist = [100, 200, 300, 400, 500, 600, 700, 800, 900, 1000]\n",
        "res = pd.Series(mylist)\n",
        "print(\"Series = \\n\",res)\n"
      ]
    }
  ]
}